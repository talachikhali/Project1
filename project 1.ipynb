{
 "cells": [
  {
   "cell_type": "code",
   "execution_count": 24,
   "id": "574f7bf5",
   "metadata": {},
   "outputs": [],
   "source": [
    "import random\n",
    "\n",
    "elements = [[\"Tringle\",\"Red\"],[\"Circle\",\"Blue\"],[\"Tringle\",\"Green\"],[\"Square\",\"Red\"],[\"Circle\",\"Red\"],[\"Square\",\"Green\"],[\"Tringle\",\"Blue\"],[\"Circle\",\"Green\"],[\"Square\",\"Blue\"]]\n",
    "square = [\"Red\", \"Green\", \"Blue\"]\n",
    "tringle = [\"Red\", \"Green\", \"Blue\"]\n",
    "circle = [\"Red\", \"Green\", \"Blue\" ]\n"
   ]
  },
  {
   "cell_type": "code",
   "execution_count": 25,
   "id": "360c69fa",
   "metadata": {},
   "outputs": [
    {
     "name": "stdout",
     "output_type": "stream",
     "text": [
      "Write start to begin : start\n",
      "[]\n",
      "[['Square', 'Red'], ['Square', 'Green'], ['Square', 'Blue']]\n",
      "[['Tringle', 'Red'], ['Tringle', 'Green'], ['Tringle', 'Blue']]\n",
      "[['Circle', 'Red'], ['Circle', 'Green'], ['Circle', 'Blue']]\n",
      "The robot is done!\n"
     ]
    }
   ],
   "source": [
    "user = input(\"Write start to begin : \").lower()\n",
    "if(user == \"start\"):\n",
    "    while(True):\n",
    " \n",
    "        cnt = 0\n",
    "        cnt += 10\n",
    "        if(elements == []):\n",
    "            break\n",
    "        \n",
    "        robot = random.choice(elements)\n",
    "        elements.remove(robot)\n",
    "        \n",
    "        if(robot[0] == \"Square\"):\n",
    "            cnt += 11\n",
    "            if(robot[1] ==\"Red\"):\n",
    "                square[0] = robot\n",
    "            elif(robot[1] == \"Green\"):\n",
    "                square[1] = robot\n",
    "            else:\n",
    "                square[2] = robot\n",
    "                \n",
    "        elif(robot[0] == \"Circle\"):\n",
    "            cnt += 15\n",
    "            if(robot[1] ==\"Red\"):\n",
    "                circle[0] = robot\n",
    "            elif(robot[1] == \"Green\"):\n",
    "                circle[1] = robot\n",
    "            else:\n",
    "                circle[2] = robot\n",
    "                \n",
    "        elif(robot[0] == \"Tringle\"):\n",
    "            cnt += 19\n",
    "            if(robot[1] ==\"Red\"):\n",
    "                tringle[0] = robot\n",
    "            elif(robot[1] == \"Green\"):\n",
    "                tringle[1] = robot\n",
    "            else:\n",
    "                tringle[2] = robot\n",
    "                \n",
    "        cnt += (40 - cnt)\n",
    "        \n",
    "    print(elements)\n",
    "    print(square)\n",
    "    print(tringle)\n",
    "    print(circle)     \n",
    "    print(\"The robot is done!\")\n",
    "        \n",
    "else:\n",
    "    print(\"The robot is still at the beginning\")"
   ]
  }
 ],
 "metadata": {
  "kernelspec": {
   "display_name": "Python 3 (ipykernel)",
   "language": "python",
   "name": "python3"
  },
  "language_info": {
   "codemirror_mode": {
    "name": "ipython",
    "version": 3
   },
   "file_extension": ".py",
   "mimetype": "text/x-python",
   "name": "python",
   "nbconvert_exporter": "python",
   "pygments_lexer": "ipython3",
   "version": "3.9.12"
  }
 },
 "nbformat": 4,
 "nbformat_minor": 5
}
