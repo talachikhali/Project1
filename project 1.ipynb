{
 "cells": [
  {
   "cell_type": "code",
   "execution_count": 1,
   "id": "574f7bf5",
   "metadata": {},
   "outputs": [
    {
     "name": "stdout",
     "output_type": "stream",
     "text": [
      "Write start to begin : start\n"
     ]
    }
   ],
   "source": [
    "import random\n",
    "\n",
    "elements = [[\"Tringle\",\"Red\"],[\"Circle\",\"Blue\"],[\"Tringle\",\"Green\"],[\"Square\",\"Red\"],[\"Circle\",\"Red\"],[\"Square\",\"Green\"],[\"Tringle\",\"Blue\"],[\"Circle\",\"Green\"],[\"Square\",\"Blue\"]]\n",
    "square = [\"Red\", \"Green\", \"Blue\"]\n",
    "tringle = [\"Red\", \"Green\", \"Blue\"]\n",
    "circle = [\"Red\", \"Green\", \"Blue\" ]\n",
    "\n",
    "user = input(\"Write start to begin : \").lower()\n",
    "counter = 0"
   ]
  },
  {
   "cell_type": "code",
   "execution_count": 2,
   "id": "360c69fa",
   "metadata": {},
   "outputs": [
    {
     "name": "stdout",
     "output_type": "stream",
     "text": [
      "The robot is done!\n"
     ]
    }
   ],
   "source": [
    "if(user == \"start\"):\n",
    "    while(True):\n",
    " \n",
    "        cnt = 0\n",
    "        cnt += 10\n",
    "        if(elements == []):\n",
    "            break\n",
    "        \n",
    "        robot = random.choice(elements)\n",
    "        elements.remove(robot)\n",
    "        \n",
    "        \n",
    "        if(robot[0] == \"Square\"):\n",
    "            if(robot[1] ==\"Red\"):\n",
    "                square[0] = 0\n",
    "            elif(robot[1] == \"Green\"):\n",
    "                square[1] = 0\n",
    "                cnt += 1\n",
    "            else:\n",
    "                square[2] = 0\n",
    "                cnt += 2\n",
    "                \n",
    "        elif(robot[0] == \"Circle\"):\n",
    "            if(robot[1] ==\"Red\"):\n",
    "                circle[0] = 0\n",
    "                cnt += 4\n",
    "            elif(robot[1] == \"Green\"):\n",
    "                circle[1] = 0\n",
    "                cnt += 5\n",
    "            else:\n",
    "                circle[2] = 0 \n",
    "                cnt += 6\n",
    "                \n",
    "        elif(robot[0] == \"Tringle\"):\n",
    "            if(robot[1] ==\"Red\"):\n",
    "                tringle[0] = 0\n",
    "                cnt += 8\n",
    "            elif(robot[1] == \"Green\"):\n",
    "                tringle[1] = 0\n",
    "                cnt += 9\n",
    "            else:\n",
    "                tringle[2] = 0 \n",
    "                cnt += 10\n",
    "                \n",
    "        cnt += (30 - cnt)\n",
    "        cnt += 10\n",
    "        \n",
    "        counter += 1\n",
    "        \n",
    "    print(\"The robot is done!\")\n",
    "        \n",
    "else:\n",
    "    print()"
   ]
  }
 ],
 "metadata": {
  "kernelspec": {
   "display_name": "Python 3 (ipykernel)",
   "language": "python",
   "name": "python3"
  },
  "language_info": {
   "codemirror_mode": {
    "name": "ipython",
    "version": 3
   },
   "file_extension": ".py",
   "mimetype": "text/x-python",
   "name": "python",
   "nbconvert_exporter": "python",
   "pygments_lexer": "ipython3",
   "version": "3.9.12"
  }
 },
 "nbformat": 4,
 "nbformat_minor": 5
}
